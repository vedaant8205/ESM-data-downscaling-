{
 "cells": [
  {
   "cell_type": "code",
   "execution_count": 2,
   "id": "43ffe4f2-5b52-43f3-b070-a80db7708392",
   "metadata": {},
   "outputs": [
    {
     "name": "stdin",
     "output_type": "stream",
     "text": [
      "Enter the base folder path where images will be saved:  C:\\Users\\Samar\\OneDrive\\Desktop\\ESM\\data\\data_img_1-11\n",
      "Enter the folder path containing .nc files:  E:\\New folder\n"
     ]
    },
    {
     "name": "stdout",
     "output_type": "stream",
     "text": [
      "Processing: theta.20180906.branch_noCNT.A_WCYCL1950S_CMIP6_HR.ne120_oRRS18v3_ICG.cam.h0.0031-01.nc\n",
      "Saved: C:\\Users\\Samar\\OneDrive\\Desktop\\ESM\\data\\data_img_1-11\\theta.20180906.branch_noCNT.A_WCYCL1950S_CMIP6_HR.ne120_oRRS18v3_ICG.cam.h0.0031-01\\TS.jpg\n",
      "Saved: C:\\Users\\Samar\\OneDrive\\Desktop\\ESM\\data\\data_img_1-11\\theta.20180906.branch_noCNT.A_WCYCL1950S_CMIP6_HR.ne120_oRRS18v3_ICG.cam.h0.0031-01\\TS_mapped.jpg\n",
      "Saved: C:\\Users\\Samar\\OneDrive\\Desktop\\ESM\\data\\data_img_1-11\\theta.20180906.branch_noCNT.A_WCYCL1950S_CMIP6_HR.ne120_oRRS18v3_ICG.cam.h0.0031-01\\FLNS.jpg\n",
      "Saved: C:\\Users\\Samar\\OneDrive\\Desktop\\ESM\\data\\data_img_1-11\\theta.20180906.branch_noCNT.A_WCYCL1950S_CMIP6_HR.ne120_oRRS18v3_ICG.cam.h0.0031-01\\FLNS_mapped.jpg\n",
      "Saved: C:\\Users\\Samar\\OneDrive\\Desktop\\ESM\\data\\data_img_1-11\\theta.20180906.branch_noCNT.A_WCYCL1950S_CMIP6_HR.ne120_oRRS18v3_ICG.cam.h0.0031-01\\FSNS.jpg\n",
      "Saved: C:\\Users\\Samar\\OneDrive\\Desktop\\ESM\\data\\data_img_1-11\\theta.20180906.branch_noCNT.A_WCYCL1950S_CMIP6_HR.ne120_oRRS18v3_ICG.cam.h0.0031-01\\FSNS_mapped.jpg\n",
      "Processing: theta.20180906.branch_noCNT.A_WCYCL1950S_CMIP6_HR.ne120_oRRS18v3_ICG.cam.h0.0036-02.nc\n",
      "Saved: C:\\Users\\Samar\\OneDrive\\Desktop\\ESM\\data\\data_img_1-11\\theta.20180906.branch_noCNT.A_WCYCL1950S_CMIP6_HR.ne120_oRRS18v3_ICG.cam.h0.0036-02\\TS.jpg\n",
      "Saved: C:\\Users\\Samar\\OneDrive\\Desktop\\ESM\\data\\data_img_1-11\\theta.20180906.branch_noCNT.A_WCYCL1950S_CMIP6_HR.ne120_oRRS18v3_ICG.cam.h0.0036-02\\TS_mapped.jpg\n",
      "Saved: C:\\Users\\Samar\\OneDrive\\Desktop\\ESM\\data\\data_img_1-11\\theta.20180906.branch_noCNT.A_WCYCL1950S_CMIP6_HR.ne120_oRRS18v3_ICG.cam.h0.0036-02\\FLNS.jpg\n",
      "Saved: C:\\Users\\Samar\\OneDrive\\Desktop\\ESM\\data\\data_img_1-11\\theta.20180906.branch_noCNT.A_WCYCL1950S_CMIP6_HR.ne120_oRRS18v3_ICG.cam.h0.0036-02\\FLNS_mapped.jpg\n",
      "Saved: C:\\Users\\Samar\\OneDrive\\Desktop\\ESM\\data\\data_img_1-11\\theta.20180906.branch_noCNT.A_WCYCL1950S_CMIP6_HR.ne120_oRRS18v3_ICG.cam.h0.0036-02\\FSNS.jpg\n",
      "Saved: C:\\Users\\Samar\\OneDrive\\Desktop\\ESM\\data\\data_img_1-11\\theta.20180906.branch_noCNT.A_WCYCL1950S_CMIP6_HR.ne120_oRRS18v3_ICG.cam.h0.0036-02\\FSNS_mapped.jpg\n",
      "Processing complete!\n"
     ]
    }
   ],
   "source": [
    "import netCDF4\n",
    "import numpy as np\n",
    "import matplotlib.pyplot as plt\n",
    "import os\n",
    "import cartopy.crs as ccrs\n",
    "import cartopy.feature as cfeature\n",
    "import cartopy.mpl.ticker as cticker\n",
    "\n",
    "# Ask for user input\n",
    "base_address = input(\"Enter the base folder path where images will be saved: \").strip()\n",
    "nc_folder = input(\"Enter the folder path containing .nc files: \").strip()\n",
    "\n",
    "# Ensure base address exists\n",
    "os.makedirs(base_address, exist_ok=True)\n",
    "\n",
    "# List all .nc files in the given directory\n",
    "nc_files = [f for f in os.listdir(nc_folder) if f.endswith(\".nc\")]\n",
    "\n",
    "if not nc_files:\n",
    "    print(\"No .nc files found in the specified directory.\")\n",
    "    exit()\n",
    "\n",
    "# Variables to extract\n",
    "variables = [\"TS\", \"FLNS\", \"FSNS\"]  # Modify this list as needed\n",
    "\n",
    "# Process each .nc file\n",
    "for nc_file in nc_files:\n",
    "    dataset_path = os.path.join(nc_folder, nc_file)\n",
    "    folder_name = os.path.splitext(nc_file)[0]  # Use filename without extension\n",
    "    output_folder = os.path.join(base_address, folder_name)\n",
    "    os.makedirs(output_folder, exist_ok=True)  # Create output folder for this file\n",
    "\n",
    "    print(f\"Processing: {nc_file}\")\n",
    "    dataset = netCDF4.Dataset(dataset_path, mode=\"r\")\n",
    "\n",
    "    # Extract lat/lon\n",
    "    lat = dataset.variables[\"lat\"][:]\n",
    "    lon = dataset.variables[\"lon\"][:]\n",
    "\n",
    "    for var_name in variables:\n",
    "        if var_name in dataset.variables:\n",
    "            data = dataset.variables[var_name][:]\n",
    "            if data.ndim == 3:\n",
    "                data = data[0, :, :]  # Take the first time step\n",
    "            data = np.flipud(data)\n",
    "\n",
    "            # Save raw image\n",
    "            img_path = os.path.join(output_folder, f\"{var_name}.jpg\")\n",
    "            plt.imsave(img_path, data, cmap=\"jet\", format=\"png\", dpi=300)\n",
    "            print(f\"Saved: {img_path}\")\n",
    "\n",
    "            # Plot with map projection\n",
    "            fig, ax = plt.subplots(figsize=(12, 6), subplot_kw={\"projection\": ccrs.PlateCarree()})\n",
    "            mesh = ax.pcolormesh(lon, lat, data, cmap=\"jet\", shading=\"auto\", transform=ccrs.PlateCarree())\n",
    "            cbar = plt.colorbar(mesh, ax=ax, orientation=\"vertical\", label=f\"{var_name} values\")\n",
    "            ax.add_feature(cfeature.COASTLINE, linewidth=1)\n",
    "            ax.add_feature(cfeature.BORDERS, linestyle=\"--\", linewidth=0.5)\n",
    "            ax.add_feature(cfeature.LAND, facecolor=\"none\", edgecolor=\"black\", linewidth=0.5)\n",
    "            gl = ax.gridlines(draw_labels=True, linestyle=\"--\", linewidth=0.5, color=\"gray\")\n",
    "            gl.top_labels = False\n",
    "            gl.right_labels = False\n",
    "            gl.xlocator = cticker.MaxNLocator(5)\n",
    "            gl.ylocator = cticker.MaxNLocator(5)\n",
    "            ax.set_title(f\"Spatial Distribution of {var_name}\")\n",
    "\n",
    "            mapped_path = os.path.join(output_folder, f\"{var_name}_mapped.jpg\")\n",
    "            plt.savefig(mapped_path, dpi=300, bbox_inches='tight')\n",
    "            plt.close()\n",
    "            print(f\"Saved: {mapped_path}\")\n",
    "\n",
    "    dataset.close()\n",
    "\n",
    "print(\"Processing complete!\")\n"
   ]
  },
  {
   "cell_type": "code",
   "execution_count": null,
   "id": "b41eb455-15fc-46ff-b950-7db05ea3d14f",
   "metadata": {},
   "outputs": [],
   "source": []
  }
 ],
 "metadata": {
  "kernelspec": {
   "display_name": "Python 3 (ipykernel)",
   "language": "python",
   "name": "python3"
  },
  "language_info": {
   "codemirror_mode": {
    "name": "ipython",
    "version": 3
   },
   "file_extension": ".py",
   "mimetype": "text/x-python",
   "name": "python",
   "nbconvert_exporter": "python",
   "pygments_lexer": "ipython3",
   "version": "3.13.2"
  }
 },
 "nbformat": 4,
 "nbformat_minor": 5
}
