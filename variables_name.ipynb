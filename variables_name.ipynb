{
 "cells": [
  {
   "cell_type": "code",
   "execution_count": null,
   "id": "34dfbced-74e9-49c1-b23a-f21d869ea65d",
   "metadata": {},
   "outputs": [],
   "source": [
    "import netCDF4\n",
    "\n",
    "# Open the NetCDF file\n",
    "nc_file = r\".nc_file\"\n",
    "dataset = netCDF4.Dataset(nc_file, mode=\"r\")\n",
    "\n",
    "# Iterate over all variables and print their long names\n",
    "for var_name in dataset.variables.keys():\n",
    "    var = dataset.variables[var_name]\n",
    "    long_name = var.long_name if \"long_name\" in var.ncattrs() else \"No long name available\"\n",
    "    print(f\"{var_name}: {long_name}\")\n",
    "\n",
    "# Close the dataset\n",
    "dataset.close()"
   ]
  },
  {
   "cell_type": "code",
   "execution_count": null,
   "id": "5fd56d07-b960-4a06-87e6-5f089a3c6829",
   "metadata": {},
   "outputs": [],
   "source": []
  }
 ],
 "metadata": {
  "kernelspec": {
   "display_name": "Python 3 (ipykernel)",
   "language": "python",
   "name": "python3"
  },
  "language_info": {
   "codemirror_mode": {
    "name": "ipython",
    "version": 3
   },
   "file_extension": ".py",
   "mimetype": "text/x-python",
   "name": "python",
   "nbconvert_exporter": "python",
   "pygments_lexer": "ipython3",
   "version": "3.13.2"
  }
 },
 "nbformat": 4,
 "nbformat_minor": 5
}
